{
 "cells": [
  {
   "cell_type": "code",
   "execution_count": 1,
   "id": "281de764",
   "metadata": {},
   "outputs": [
    {
     "data": {
      "text/latex": [
       "$\\displaystyle \\frac{\\sqrt{10}}{e^{10}}$"
      ],
      "text/plain": [
       "sqrt(10)*exp(-10)"
      ]
     },
     "execution_count": 1,
     "metadata": {},
     "output_type": "execute_result"
    }
   ],
   "source": [
    "from sympy import sqrt , exp \n",
    "import math\n",
    "def J(w):\n",
    "    return (sqrt(w))*(exp(-w))\n",
    "J(10)"
   ]
  },
  {
   "cell_type": "code",
   "execution_count": 2,
   "id": "0b9d71a6",
   "metadata": {},
   "outputs": [
    {
     "name": "stderr",
     "output_type": "stream",
     "text": [
      "C:\\Users\\perspolis\\AppData\\Local\\Temp\\ipykernel_10564\\3166609441.py:4: IntegrationWarning: The algorithm does not converge.  Roundoff error is detected\n",
      "  in the extrapolation table.  It is assumed that the requested tolerance\n",
      "  cannot be achieved, and that the returned result (if full_output = 1) is \n",
      "  the best which can be obtained.\n",
      "  return 4*(scipy.integrate.quad(lambda w:J(w)*coth(w/4)*(1-cos(w*t))/w**2,0,math.inf)[0])\n"
     ]
    },
    {
     "data": {
      "text/plain": [
       "13.606317879033941"
      ]
     },
     "execution_count": 2,
     "metadata": {},
     "output_type": "execute_result"
    }
   ],
   "source": [
    "import scipy.integrate\n",
    "from sympy import cos , coth\n",
    "def gamma(t):\n",
    "    return 4*(scipy.integrate.quad(lambda w:J(w)*coth(w/4)*(1-cos(w*t))/w**2,0,math.inf)[0])\n",
    "gamma(1)"
   ]
  },
  {
   "cell_type": "code",
   "execution_count": 3,
   "id": "0476f2c1",
   "metadata": {},
   "outputs": [
    {
     "name": "stdout",
     "output_type": "stream",
     "text": [
      "0.9956512092895874\n"
     ]
    },
    {
     "name": "stderr",
     "output_type": "stream",
     "text": [
      "C:\\Users\\perspolis\\AppData\\Local\\Temp\\ipykernel_10564\\3166609441.py:4: IntegrationWarning: The algorithm does not converge.  Roundoff error is detected\n",
      "  in the extrapolation table.  It is assumed that the requested tolerance\n",
      "  cannot be achieved, and that the returned result (if full_output = 1) is \n",
      "  the best which can be obtained.\n",
      "  return 4*(scipy.integrate.quad(lambda w:J(w)*coth(w/4)*(1-cos(w*t))/w**2,0,math.inf)[0])\n"
     ]
    },
    {
     "name": "stdout",
     "output_type": "stream",
     "text": [
      "0.9827542992457444\n",
      "0.9617444370491\n"
     ]
    },
    {
     "name": "stderr",
     "output_type": "stream",
     "text": [
      "C:\\Users\\perspolis\\AppData\\Local\\Temp\\ipykernel_10564\\3166609441.py:4: IntegrationWarning: The maximum number of subdivisions (50) has been achieved.\n",
      "  If increasing the limit yields no improvement it is advised to analyze \n",
      "  the integrand in order to determine the difficulties.  If the position of a \n",
      "  local difficulty can be determined (singularity, discontinuity) one will \n",
      "  probably gain from splitting up the interval and calling the integrator \n",
      "  on the subranges.  Perhaps a special-purpose integrator should be used.\n",
      "  return 4*(scipy.integrate.quad(lambda w:J(w)*coth(w/4)*(1-cos(w*t))/w**2,0,math.inf)[0])\n"
     ]
    },
    {
     "name": "stdout",
     "output_type": "stream",
     "text": [
      "0.9333057136053362\n",
      "0.8983178432574501\n",
      "0.8577952383515501\n",
      "0.8128263332305924\n",
      "0.7645185685422037\n",
      "0.7139523171864729\n",
      "0.6621445246211457\n",
      "0.6100222453427028\n",
      "0.5584049843111998\n",
      "0.5079948544562632\n",
      "0.4593731523014873\n",
      "0.4130022836562945\n",
      "0.3692313904815767\n",
      "0.3283053135529435\n",
      "0.2903750478769939\n",
      "0.25550973832277474\n",
      "0.22370869740960297\n"
     ]
    }
   ],
   "source": [
    "def D(t):\n",
    "    return math.exp(-0.0303*gamma(t))\n",
    "import numpy as np\n",
    "i=0.1\n",
    "x=np.array([])\n",
    "y=np.array([])\n",
    "while i<2.1:\n",
    "    print(D(i))\n",
    "    x=np.append(x,i)\n",
    "    i+=0.1\n",
    "    y=np.append(y,D(i))\n",
    "    "
   ]
  },
  {
   "cell_type": "code",
   "execution_count": 4,
   "id": "da9c4c65",
   "metadata": {},
   "outputs": [
    {
     "data": {
      "text/plain": [
       "array([0.1, 0.2, 0.3, 0.4, 0.5, 0.6, 0.7, 0.8, 0.9, 1. , 1.1, 1.2, 1.3,\n",
       "       1.4, 1.5, 1.6, 1.7, 1.8, 1.9, 2. ])"
      ]
     },
     "execution_count": 4,
     "metadata": {},
     "output_type": "execute_result"
    }
   ],
   "source": [
    "x"
   ]
  },
  {
   "cell_type": "code",
   "execution_count": 5,
   "id": "985653b6",
   "metadata": {},
   "outputs": [
    {
     "data": {
      "text/plain": [
       "array([0.9827543 , 0.96174444, 0.93330571, 0.89831784, 0.85779524,\n",
       "       0.81282633, 0.76451857, 0.71395232, 0.66214452, 0.61002225,\n",
       "       0.55840498, 0.50799485, 0.45937315, 0.41300228, 0.36923139,\n",
       "       0.32830531, 0.29037505, 0.25550974, 0.2237087 , 0.19491372])"
      ]
     },
     "execution_count": 5,
     "metadata": {},
     "output_type": "execute_result"
    }
   ],
   "source": [
    "y"
   ]
  },
  {
   "cell_type": "code",
   "execution_count": 6,
   "id": "03ae7e79",
   "metadata": {},
   "outputs": [
    {
     "data": {
      "image/png": "[encoded data removed]",
      "text/plain": [
       "<Figure size 432x288 with 1 Axes>"
      ]
     },
     "metadata": {
      "needs_background": "light"
     },
     "output_type": "display_data"
    }
   ],
   "source": [
    "import matplotlib.pyplot as plt\n",
    "plt.xlabel('t',loc='right')\n",
    "plt.ylabel('D(t)',loc='top',)\n",
    "plt.plot(x,y)\n",
    "plt.show()"
   ]
  },
  {
   "cell_type": "code",
   "execution_count": 7,
   "id": "2d1b790a",
   "metadata": {},
   "outputs": [
    {
     "data": {
      "text/plain": [
       "0.17406895185529161"
      ]
     },
     "execution_count": 7,
     "metadata": {},
     "output_type": "execute_result"
    }
   ],
   "source": [
    "theta=0.86\n",
    "alpha=1\n",
    "xi=0.81\n",
    "delta=0.56\n",
    "omega0=math.sqrt(alpha**2-xi**2-delta**2)\n",
    "omega0"
   ]
  },
  {
   "cell_type": "code",
   "execution_count": 8,
   "id": "b4b9ebf0",
   "metadata": {},
   "outputs": [],
   "source": [
    "def omega1(t):\n",
    "    return 4*theta*(scipy.integrate.quad(lambda w:J(w)*(1-cos(w*t))/w**2,0,math.inf))[0]\n"
   ]
  },
  {
   "cell_type": "code",
   "execution_count": 9,
   "id": "410c7948",
   "metadata": {},
   "outputs": [
    {
     "data": {
      "text/plain": [
       "1.203401694141387"
      ]
     },
     "execution_count": 9,
     "metadata": {},
     "output_type": "execute_result"
    }
   ],
   "source": [
    "omega1(1)"
   ]
  },
  {
   "cell_type": "code",
   "execution_count": 10,
   "id": "d1009d8b",
   "metadata": {},
   "outputs": [],
   "source": [
    "def omega2(t):\n",
    "    return 2*theta*(t**2)*(scipy.integrate.quad(lambda w:J(w),0,math.inf))[0]"
   ]
  },
  {
   "cell_type": "code",
   "execution_count": 11,
   "id": "b1e8ae81",
   "metadata": {},
   "outputs": [
    {
     "data": {
      "text/plain": [
       "1.524310311780211"
      ]
     },
     "execution_count": 11,
     "metadata": {},
     "output_type": "execute_result"
    }
   ],
   "source": [
    "omega2(1)"
   ]
  },
  {
   "cell_type": "code",
   "execution_count": 12,
   "id": "b33e99c1",
   "metadata": {},
   "outputs": [],
   "source": [
    "from sympy import exp \n",
    "def rho12(t):\n",
    "    return (exp(2*1j*omega0*t))*(exp(-1j*omega0*(omega2(t)-omega1(t)))*(exp(((-omega0)**2)*gamma(t))))"
   ]
  },
  {
   "cell_type": "code",
   "execution_count": 13,
   "id": "b172cad2",
   "metadata": {},
   "outputs": [
    {
     "data": {
      "text/latex": [
       "$\\displaystyle 21.6809511554055 e^{- 0.404071234443024 i}$"
      ],
      "text/plain": [
       "21.6809511554055*exp(-0.404071234443024*I)"
      ]
     },
     "execution_count": 13,
     "metadata": {},
     "output_type": "execute_result"
    }
   ],
   "source": [
    "rho12(3)"
   ]
  },
  {
   "cell_type": "code",
   "execution_count": 14,
   "id": "2bd5bb2f",
   "metadata": {},
   "outputs": [],
   "source": [
    "def rho21(t):\n",
    "    return np.conj(rho12(t))"
   ]
  },
  {
   "cell_type": "code",
   "execution_count": 15,
   "id": "fb2385cd",
   "metadata": {},
   "outputs": [
    {
     "name": "stderr",
     "output_type": "stream",
     "text": [
      "C:\\Users\\perspolis\\AppData\\Local\\Temp\\ipykernel_10564\\3166609441.py:4: IntegrationWarning: The algorithm does not converge.  Roundoff error is detected\n",
      "  in the extrapolation table.  It is assumed that the requested tolerance\n",
      "  cannot be achieved, and that the returned result (if full_output = 1) is \n",
      "  the best which can be obtained.\n",
      "  return 4*(scipy.integrate.quad(lambda w:J(w)*coth(w/4)*(1-cos(w*t))/w**2,0,math.inf)[0])\n"
     ]
    },
    {
     "data": {
      "text/latex": [
       "$\\displaystyle 155.983095544557 e^{1.57817160271459 i}$"
      ],
      "text/plain": [
       "155.983095544557*exp(1.57817160271459*I)"
      ]
     },
     "execution_count": 15,
     "metadata": {},
     "output_type": "execute_result"
    }
   ],
   "source": [
    "rho21(4)"
   ]
  },
  {
   "cell_type": "code",
   "execution_count": 16,
   "id": "a8317661",
   "metadata": {},
   "outputs": [
    {
     "name": "stderr",
     "output_type": "stream",
     "text": [
      "C:\\Users\\perspolis\\AppData\\Local\\Temp\\ipykernel_10564\\3166609441.py:4: IntegrationWarning: The algorithm does not converge.  Roundoff error is detected\n",
      "  in the extrapolation table.  It is assumed that the requested tolerance\n",
      "  cannot be achieved, and that the returned result (if full_output = 1) is \n",
      "  the best which can be obtained.\n",
      "  return 4*(scipy.integrate.quad(lambda w:J(w)*coth(w/4)*(1-cos(w*t))/w**2,0,math.inf)[0])\n",
      "C:\\Users\\perspolis\\AppData\\Local\\Temp\\ipykernel_10564\\3166609441.py:4: IntegrationWarning: The maximum number of subdivisions (50) has been achieved.\n",
      "  If increasing the limit yields no improvement it is advised to analyze \n",
      "  the integrand in order to determine the difficulties.  If the position of a \n",
      "  local difficulty can be determined (singularity, discontinuity) one will \n",
      "  probably gain from splitting up the interval and calling the integrator \n",
      "  on the subranges.  Perhaps a special-purpose integrator should be used.\n",
      "  return 4*(scipy.integrate.quad(lambda w:J(w)*coth(w/4)*(1-cos(w*t))/w**2,0,math.inf)[0])\n"
     ]
    }
   ],
   "source": [
    "h=0.0000000001\n",
    "rho12dot=[]\n",
    "ech=[]\n",
    "j=0.1\n",
    "while j<2.1:\n",
    "    diff=0.5*(rho12(j+h)-rho12(j-h))/h\n",
    "    rho12dot=np.append(rho12dot,diff)\n",
    "    ech=np.append(ech,diff)\n",
    "    j+=0.1\n",
    "    "
   ]
  },
  {
   "cell_type": "code",
   "execution_count": 17,
   "id": "08f83a04",
   "metadata": {},
   "outputs": [
    {
     "name": "stderr",
     "output_type": "stream",
     "text": [
      "C:\\Users\\perspolis\\AppData\\Local\\Temp\\ipykernel_10564\\3166609441.py:4: IntegrationWarning: The algorithm does not converge.  Roundoff error is detected\n",
      "  in the extrapolation table.  It is assumed that the requested tolerance\n",
      "  cannot be achieved, and that the returned result (if full_output = 1) is \n",
      "  the best which can be obtained.\n",
      "  return 4*(scipy.integrate.quad(lambda w:J(w)*coth(w/4)*(1-cos(w*t))/w**2,0,math.inf)[0])\n",
      "C:\\Users\\perspolis\\AppData\\Local\\Temp\\ipykernel_10564\\3166609441.py:4: IntegrationWarning: The maximum number of subdivisions (50) has been achieved.\n",
      "  If increasing the limit yields no improvement it is advised to analyze \n",
      "  the integrand in order to determine the difficulties.  If the position of a \n",
      "  local difficulty can be determined (singularity, discontinuity) one will \n",
      "  probably gain from splitting up the interval and calling the integrator \n",
      "  on the subranges.  Perhaps a special-purpose integrator should be used.\n",
      "  return 4*(scipy.integrate.quad(lambda w:J(w)*coth(w/4)*(1-cos(w*t))/w**2,0,math.inf)[0])\n"
     ]
    }
   ],
   "source": [
    "l=0.0000000001\n",
    "rho21dot=[]\n",
    "el=[]\n",
    "k=0.1\n",
    "while k<2.1:\n",
    "    diff=0.5*(rho21(k+l)-rho21(k-l))/l\n",
    "    rho21dot=np.append(rho21dot,diff)\n",
    "    el=np.append(el,diff)\n",
    "    k+=0.1"
   ]
  },
  {
   "cell_type": "code",
   "execution_count": 18,
   "id": "29a7f7eb",
   "metadata": {},
   "outputs": [
    {
     "data": {
      "text/latex": [
       "$\\displaystyle - 6540063518.6737 e^{0.252728498966873 i} + 6540063519.76942 e^{0.25272849901369 i}$"
      ],
      "text/plain": [
       "-6540063518.6737*exp(0.252728498966873*I) + 6540063519.76942*exp(0.25272849901369*I)"
      ]
     },
     "execution_count": 18,
     "metadata": {},
     "output_type": "execute_result"
    }
   ],
   "source": [
    "rho12dot[7]"
   ]
  },
  {
   "cell_type": "code",
   "execution_count": 19,
   "id": "eb6b74ce",
   "metadata": {},
   "outputs": [
    {
     "data": {
      "text/plain": [
       "array([[0,\n",
       "        -6540063518.6737*exp(0.252728498966873*I) + 6540063519.76942*exp(0.25272849901369*I)],\n",
       "       [5198886323.01355*exp(-0.103799761709994*I) - 5198886322.67821*exp(-0.103799761642037*I),\n",
       "        0]], dtype=object)"
      ]
     },
     "execution_count": 19,
     "metadata": {},
     "output_type": "execute_result"
    }
   ],
   "source": [
    "rhodot=np.array([[0,rho12dot[7]],[rho21dot[2],0]])\n",
    "rhodot"
   ]
  },
  {
   "cell_type": "code",
   "execution_count": 20,
   "id": "198ce734",
   "metadata": {},
   "outputs": [
    {
     "ename": "UFuncTypeError",
     "evalue": "Cannot cast ufunc 'svd_n' input from dtype('O') to dtype('float64') with casting rule 'same_kind'",
     "output_type": "error",
     "traceback": [
      "\u001b[1;31m---------------------------------------------------------------------------\u001b[0m",
      "\u001b[1;31mUFuncTypeError\u001b[0m                            Traceback (most recent call last)",
      "Input \u001b[1;32mIn [20]\u001b[0m, in \u001b[0;36m<cell line: 1>\u001b[1;34m()\u001b[0m\n\u001b[1;32m----> 1\u001b[0m normrhodot\u001b[38;5;241m=\u001b[39m\u001b[43mnp\u001b[49m\u001b[38;5;241;43m.\u001b[39;49m\u001b[43mlinalg\u001b[49m\u001b[38;5;241;43m.\u001b[39;49m\u001b[43mnorm\u001b[49m\u001b[43m(\u001b[49m\u001b[43mrhodot\u001b[49m\u001b[43m,\u001b[49m\u001b[38;5;28;43mord\u001b[39;49m\u001b[38;5;241;43m=\u001b[39;49m\u001b[38;5;241;43m2\u001b[39;49m\u001b[43m)\u001b[49m\n",
      "File \u001b[1;32m<__array_function__ internals>:5\u001b[0m, in \u001b[0;36mnorm\u001b[1;34m(*args, **kwargs)\u001b[0m\n",
      "File \u001b[1;32mC:\\ProgramData\\Anaconda3\\lib\\site-packages\\numpy\\linalg\\linalg.py:2579\u001b[0m, in \u001b[0;36mnorm\u001b[1;34m(x, ord, axis, keepdims)\u001b[0m\n\u001b[0;32m   2577\u001b[0m     \u001b[38;5;28;01mraise\u001b[39;00m \u001b[38;5;167;01mValueError\u001b[39;00m(\u001b[38;5;124m'\u001b[39m\u001b[38;5;124mDuplicate axes given.\u001b[39m\u001b[38;5;124m'\u001b[39m)\n\u001b[0;32m   2578\u001b[0m \u001b[38;5;28;01mif\u001b[39;00m \u001b[38;5;28mord\u001b[39m \u001b[38;5;241m==\u001b[39m \u001b[38;5;241m2\u001b[39m:\n\u001b[1;32m-> 2579\u001b[0m     ret \u001b[38;5;241m=\u001b[39m  \u001b[43m_multi_svd_norm\u001b[49m\u001b[43m(\u001b[49m\u001b[43mx\u001b[49m\u001b[43m,\u001b[49m\u001b[43m \u001b[49m\u001b[43mrow_axis\u001b[49m\u001b[43m,\u001b[49m\u001b[43m \u001b[49m\u001b[43mcol_axis\u001b[49m\u001b[43m,\u001b[49m\u001b[43m \u001b[49m\u001b[43mamax\u001b[49m\u001b[43m)\u001b[49m\n\u001b[0;32m   2580\u001b[0m \u001b[38;5;28;01melif\u001b[39;00m \u001b[38;5;28mord\u001b[39m \u001b[38;5;241m==\u001b[39m \u001b[38;5;241m-\u001b[39m\u001b[38;5;241m2\u001b[39m:\n\u001b[0;32m   2581\u001b[0m     ret \u001b[38;5;241m=\u001b[39m _multi_svd_norm(x, row_axis, col_axis, amin)\n",
      "File \u001b[1;32mC:\\ProgramData\\Anaconda3\\lib\\site-packages\\numpy\\linalg\\linalg.py:2355\u001b[0m, in \u001b[0;36m_multi_svd_norm\u001b[1;34m(x, row_axis, col_axis, op)\u001b[0m\n\u001b[0;32m   2332\u001b[0m \u001b[38;5;124;03m\"\"\"Compute a function of the singular values of the 2-D matrices in `x`.\u001b[39;00m\n\u001b[0;32m   2333\u001b[0m \n\u001b[0;32m   2334\u001b[0m \u001b[38;5;124;03mThis is a private utility function used by `numpy.linalg.norm()`.\u001b[39;00m\n\u001b[1;32m   (...)\u001b[0m\n\u001b[0;32m   2352\u001b[0m \n\u001b[0;32m   2353\u001b[0m \u001b[38;5;124;03m\"\"\"\u001b[39;00m\n\u001b[0;32m   2354\u001b[0m y \u001b[38;5;241m=\u001b[39m moveaxis(x, (row_axis, col_axis), (\u001b[38;5;241m-\u001b[39m\u001b[38;5;241m2\u001b[39m, \u001b[38;5;241m-\u001b[39m\u001b[38;5;241m1\u001b[39m))\n\u001b[1;32m-> 2355\u001b[0m result \u001b[38;5;241m=\u001b[39m op(\u001b[43msvd\u001b[49m\u001b[43m(\u001b[49m\u001b[43my\u001b[49m\u001b[43m,\u001b[49m\u001b[43m \u001b[49m\u001b[43mcompute_uv\u001b[49m\u001b[38;5;241;43m=\u001b[39;49m\u001b[38;5;28;43;01mFalse\u001b[39;49;00m\u001b[43m)\u001b[49m, axis\u001b[38;5;241m=\u001b[39m\u001b[38;5;241m-\u001b[39m\u001b[38;5;241m1\u001b[39m)\n\u001b[0;32m   2356\u001b[0m \u001b[38;5;28;01mreturn\u001b[39;00m result\n",
      "File \u001b[1;32m<__array_function__ internals>:5\u001b[0m, in \u001b[0;36msvd\u001b[1;34m(*args, **kwargs)\u001b[0m\n",
      "File \u001b[1;32mC:\\ProgramData\\Anaconda3\\lib\\site-packages\\numpy\\linalg\\linalg.py:1672\u001b[0m, in \u001b[0;36msvd\u001b[1;34m(a, full_matrices, compute_uv, hermitian)\u001b[0m\n\u001b[0;32m   1669\u001b[0m     gufunc \u001b[38;5;241m=\u001b[39m _umath_linalg\u001b[38;5;241m.\u001b[39msvd_n\n\u001b[0;32m   1671\u001b[0m signature \u001b[38;5;241m=\u001b[39m \u001b[38;5;124m'\u001b[39m\u001b[38;5;124mD->d\u001b[39m\u001b[38;5;124m'\u001b[39m \u001b[38;5;28;01mif\u001b[39;00m isComplexType(t) \u001b[38;5;28;01melse\u001b[39;00m \u001b[38;5;124m'\u001b[39m\u001b[38;5;124md->d\u001b[39m\u001b[38;5;124m'\u001b[39m\n\u001b[1;32m-> 1672\u001b[0m s \u001b[38;5;241m=\u001b[39m \u001b[43mgufunc\u001b[49m\u001b[43m(\u001b[49m\u001b[43ma\u001b[49m\u001b[43m,\u001b[49m\u001b[43m \u001b[49m\u001b[43msignature\u001b[49m\u001b[38;5;241;43m=\u001b[39;49m\u001b[43msignature\u001b[49m\u001b[43m,\u001b[49m\u001b[43m \u001b[49m\u001b[43mextobj\u001b[49m\u001b[38;5;241;43m=\u001b[39;49m\u001b[43mextobj\u001b[49m\u001b[43m)\u001b[49m\n\u001b[0;32m   1673\u001b[0m s \u001b[38;5;241m=\u001b[39m s\u001b[38;5;241m.\u001b[39mastype(_realType(result_t), copy\u001b[38;5;241m=\u001b[39m\u001b[38;5;28;01mFalse\u001b[39;00m)\n\u001b[0;32m   1674\u001b[0m \u001b[38;5;28;01mreturn\u001b[39;00m s\n",
      "\u001b[1;31mUFuncTypeError\u001b[0m: Cannot cast ufunc 'svd_n' input from dtype('O') to dtype('float64') with casting rule 'same_kind'"
     ]
    }
   ],
   "source": [
    "normrhodot=np.linalg.norm(rhodot,ord=2)"
   ]
  },
  {
   "cell_type": "code",
   "execution_count": null,
   "id": "5a936b43",
   "metadata": {},
   "outputs": [],
   "source": []
  }
 ],
 "metadata": {
  "kernelspec": {
   "display_name": "Python 3 (ipykernel)",
   "language": "python",
   "name": "python3"
  },
  "language_info": {
   "codemirror_mode": {
    "name": "ipython",
    "version": 3
   },
   "file_extension": ".py",
   "mimetype": "text/x-python",
   "name": "python",
   "nbconvert_exporter": "python",
   "pygments_lexer": "ipython3",
   "version": "3.9.12"
  }
 },
 "nbformat": 4,
 "nbformat_minor": 5
}
